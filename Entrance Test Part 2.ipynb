{
 "cells": [
  {
   "cell_type": "markdown",
   "id": "0c77ae73",
   "metadata": {},
   "source": [
    "# Innomatics Data Science Internship |  Entrance Test Part 2  | Hackathon"
   ]
  },
  {
   "cell_type": "markdown",
   "id": "7792c03e",
   "metadata": {},
   "source": [
    "## Import Libraries"
   ]
  },
  {
   "cell_type": "code",
   "execution_count": 1,
   "id": "f85cd167",
   "metadata": {},
   "outputs": [],
   "source": [
    "from zipfile import ZipFile\n",
    "import pandas as pd\n",
    "import matplotlib.pyplot as plt"
   ]
  },
  {
   "cell_type": "markdown",
   "id": "8acd8ea8",
   "metadata": {},
   "source": [
    "### 1) Download the data from the above link. How many \".csv\" files are available in the dataset?"
   ]
  },
  {
   "cell_type": "code",
   "execution_count": 2,
   "id": "edc88af1",
   "metadata": {},
   "outputs": [
    {
     "name": "stdout",
     "output_type": "stream",
     "text": [
      "File Name                                             Modified             Size\n",
      "links.csv                                      2018-09-27 02:20:10       197979\n",
      "movies.csv                                     2018-09-27 02:19:56       494431\n",
      "ratings.csv                                    2018-09-27 02:19:38      2483723\n",
      "README.txt                                     2018-09-27 02:20:12         8342\n",
      "tags.csv                                       2018-09-27 02:19:40       118660\n",
      "Extracting all the files now...\n",
      "Done!\n"
     ]
    }
   ],
   "source": [
    "file_name = r\"C:\\Users\\mural\\Downloads\\movie_data.zip\"\n",
    "  \n",
    "with ZipFile(file_name, 'r') as zip: \n",
    "    zip.printdir() \n",
    "  \n",
    "    print('Extracting all the files now...') \n",
    "    zip.extractall() \n",
    "    print('Done!') "
   ]
  },
  {
   "cell_type": "markdown",
   "id": "2893055a",
   "metadata": {},
   "source": [
    "### 2) What is the shape of \"movies.csv\"?"
   ]
  },
  {
   "cell_type": "code",
   "execution_count": 3,
   "id": "2d027122",
   "metadata": {},
   "outputs": [
    {
     "name": "stdout",
     "output_type": "stream",
     "text": [
      "Shape of 'movies.csv': (9742, 3)\n"
     ]
    }
   ],
   "source": [
    "csv_file_path = \"movies.csv\"\n",
    "\n",
    "df = pd.read_csv(csv_file_path)\n",
    "\n",
    "shape = df.shape\n",
    "\n",
    "print(\"Shape of 'movies.csv':\", shape)"
   ]
  },
  {
   "cell_type": "markdown",
   "id": "43fd9bd4",
   "metadata": {},
   "source": [
    "### 3) What is the shape of \"ratings.csv\"?"
   ]
  },
  {
   "cell_type": "code",
   "execution_count": 4,
   "id": "315d7f04",
   "metadata": {},
   "outputs": [
    {
     "name": "stdout",
     "output_type": "stream",
     "text": [
      "Shape of 'ratings.csv': (100836, 4)\n"
     ]
    }
   ],
   "source": [
    "csv_file_path = \"ratings.csv\"\n",
    "\n",
    "df = pd.read_csv(csv_file_path)\n",
    "\n",
    "shape = df.shape\n",
    "\n",
    "print(\"Shape of 'ratings.csv':\", shape)"
   ]
  },
  {
   "cell_type": "markdown",
   "id": "b62c0038",
   "metadata": {},
   "source": [
    "### 3) How many unique \"userId\" are available in \"ratings.csv\"?"
   ]
  },
  {
   "cell_type": "code",
   "execution_count": 5,
   "id": "cea6de01",
   "metadata": {},
   "outputs": [
    {
     "name": "stdout",
     "output_type": "stream",
     "text": [
      "Number of unique userIds in 'ratings.csv': 610\n"
     ]
    }
   ],
   "source": [
    "csv_file_path = \"ratings.csv\"\n",
    "\n",
    "df_ratings = pd.read_csv(csv_file_path)\n",
    "\n",
    "unique_user_ids = df_ratings['userId'].nunique()\n",
    "\n",
    "print(\"Number of unique userIds in 'ratings.csv':\", unique_user_ids)"
   ]
  },
  {
   "cell_type": "markdown",
   "id": "b6a9b953",
   "metadata": {},
   "source": [
    "### 4) Which movie has recieved maximum number of user ratings?"
   ]
  },
  {
   "cell_type": "code",
   "execution_count": 6,
   "id": "1f5fd5ef",
   "metadata": {},
   "outputs": [
    {
     "name": "stdout",
     "output_type": "stream",
     "text": [
      "Movie with the maximum number of user ratings: Forrest Gump (1994)\n"
     ]
    }
   ],
   "source": [
    "ratings_file_path = \"ratings.csv\"\n",
    "movies_file_path = \"movies.csv\"\n",
    "\n",
    "df_ratings = pd.read_csv(ratings_file_path)\n",
    "df_movies = pd.read_csv(movies_file_path)\n",
    "\n",
    "merged_df = pd.merge(df_ratings, df_movies, on='movieId')\n",
    "\n",
    "movie_ratings_count = merged_df.groupby('title')['rating'].count()\n",
    "\n",
    "max_rated_movie = movie_ratings_count.idxmax()\n",
    "\n",
    "print(\"Movie with the maximum number of user ratings:\", max_rated_movie)"
   ]
  },
  {
   "cell_type": "markdown",
   "id": "85c54869",
   "metadata": {},
   "source": [
    "### 5) Select all the correct tags submitted by users to \"Matrix, The (1999)\" movie?"
   ]
  },
  {
   "cell_type": "code",
   "execution_count": 7,
   "id": "9b1a3e33",
   "metadata": {},
   "outputs": [
    {
     "name": "stdout",
     "output_type": "stream",
     "text": [
      "Tags for 'Matrix, The (1999)':\n",
      "1270          martial arts\n",
      "1271                sci-fi\n",
      "1272    alternate universe\n",
      "1273            philosophy\n",
      "1274      post apocalyptic\n",
      "Name: tag, dtype: object\n"
     ]
    }
   ],
   "source": [
    "tags_file_path = \"tags.csv\"\n",
    "movies_file_path = \"movies.csv\"\n",
    "\n",
    "df_tags = pd.read_csv(tags_file_path)\n",
    "df_movies = pd.read_csv(movies_file_path)\n",
    "\n",
    "merged_df = pd.merge(df_tags, df_movies, on='movieId')\n",
    "\n",
    "matrix_tags = merged_df[merged_df['title'] == 'Matrix, The (1999)']['tag']\n",
    "\n",
    "print(\"Tags for 'Matrix, The (1999)':\")\n",
    "print(matrix_tags)"
   ]
  },
  {
   "cell_type": "markdown",
   "id": "9c2d582b",
   "metadata": {},
   "source": [
    "### 6) What is the average user rating for movie named \"Terminator 2: Judgment Day (1991)\"?"
   ]
  },
  {
   "cell_type": "code",
   "execution_count": 8,
   "id": "e6562146",
   "metadata": {},
   "outputs": [
    {
     "name": "stdout",
     "output_type": "stream",
     "text": [
      "Average user rating for 'Terminator 2: Judgment Day (1991)': 3.970982142857143\n"
     ]
    }
   ],
   "source": [
    "ratings_file_path = \"ratings.csv\"\n",
    "movies_file_path = \"movies.csv\"\n",
    "\n",
    "df_ratings = pd.read_csv(ratings_file_path)\n",
    "df_movies = pd.read_csv(movies_file_path)\n",
    "\n",
    "merged_df = pd.merge(df_ratings, df_movies, on='movieId')\n",
    "\n",
    "terminator_2_ratings = merged_df[merged_df['title'] == 'Terminator 2: Judgment Day (1991)']\n",
    "\n",
    "average_rating = terminator_2_ratings['rating'].mean()\n",
    "\n",
    "print(\"Average user rating for 'Terminator 2: Judgment Day (1991)':\", average_rating)"
   ]
  },
  {
   "cell_type": "markdown",
   "id": "a81eefe7",
   "metadata": {},
   "source": [
    "### 7) How does the data distribution of user ratings for \"Fight Club (1999)\" movie looks like?"
   ]
  },
  {
   "cell_type": "code",
   "execution_count": 9,
   "id": "85f45bac",
   "metadata": {},
   "outputs": [
    {
     "data": {
      "image/png": "[encoded data removed]",
      "text/plain": [
       "<Figure size 640x480 with 1 Axes>"
      ]
     },
     "metadata": {},
     "output_type": "display_data"
    }
   ],
   "source": [
    "ratings_file_path = \"ratings.csv\"\n",
    "movies_file_path = \"movies.csv\"\n",
    "\n",
    "df_ratings = pd.read_csv(ratings_file_path)\n",
    "df_movies = pd.read_csv(movies_file_path)\n",
    "\n",
    "merged_df = pd.merge(df_ratings, df_movies, on='movieId')\n",
    "\n",
    "fight_club_ratings = merged_df[merged_df['title'] == 'Fight Club (1999)']\n",
    "\n",
    "plt.hist(fight_club_ratings['rating'], bins=5, edgecolor='black')\n",
    "plt.title('User Ratings Distribution for Fight Club (1999)')\n",
    "plt.xlabel('Rating')\n",
    "plt.ylabel('Number of Users')\n",
    "plt.show()"
   ]
  },
  {
   "cell_type": "markdown",
   "id": "07759dc3",
   "metadata": {},
   "source": [
    "### 8) Which movie is the most popular based on  average user ratings?"
   ]
  },
  {
   "cell_type": "code",
   "execution_count": 10,
   "id": "069f6f5e",
   "metadata": {},
   "outputs": [
    {
     "name": "stdout",
     "output_type": "stream",
     "text": [
      "Most popular movie based on average user ratings (with more than 50 ratings): Shawshank Redemption, The (1994)\n"
     ]
    }
   ],
   "source": [
    "ratings_file_path = 'ratings.csv'\n",
    "movies_file_path = 'movies.csv'\n",
    "\n",
    "ratings_df = pd.read_csv(ratings_file_path)\n",
    "movies_df = pd.read_csv(movies_file_path)\n",
    "\n",
    "grouped_ratings = ratings_df.groupby('movieId')['rating'].agg(['count', 'mean']).reset_index()\n",
    "\n",
    "merged_df = pd.merge(movies_df, grouped_ratings, on='movieId', how='inner')\n",
    "\n",
    "filtered_movies = merged_df[merged_df['count'] > 50]\n",
    "\n",
    "most_popular_movie = filtered_movies.loc[filtered_movies['mean'].idxmax(), 'title']\n",
    "\n",
    "print(\"Most popular movie based on average user ratings (with more than 50 ratings):\", most_popular_movie)"
   ]
  },
  {
   "cell_type": "markdown",
   "id": "7088380f",
   "metadata": {},
   "source": [
    "### 9) Select all the correct options which comes under top 5 popular movies based on number of user ratings."
   ]
  },
  {
   "cell_type": "code",
   "execution_count": 11,
   "id": "3e6b5336",
   "metadata": {},
   "outputs": [
    {
     "name": "stdout",
     "output_type": "stream",
     "text": [
      "Top 5 popular movies based on number of user ratings:\n",
      "Forrest Gump (1994)                 329\n",
      "Shawshank Redemption, The (1994)    317\n",
      "Pulp Fiction (1994)                 307\n",
      "Silence of the Lambs, The (1991)    279\n",
      "Matrix, The (1999)                  278\n",
      "Name: title, dtype: int64\n"
     ]
    }
   ],
   "source": [
    "ratings_file_path = \"ratings.csv\"\n",
    "movies_file_path = \"movies.csv\"\n",
    "\n",
    "df_ratings = pd.read_csv(ratings_file_path)\n",
    "df_movies = pd.read_csv(movies_file_path)\n",
    "\n",
    "merged_df = pd.merge(df_ratings, df_movies, on='movieId')\n",
    "\n",
    "ratings_count = merged_df['title'].value_counts()\n",
    "\n",
    "top5_movies = ratings_count.head(5)\n",
    "\n",
    "print(\"Top 5 popular movies based on number of user ratings:\")\n",
    "print(top5_movies)"
   ]
  },
  {
   "cell_type": "markdown",
   "id": "289f7a42",
   "metadata": {},
   "source": [
    "### 10) Which Sci-Fi movie is \"third most popular\" based on the number of user ratings?"
   ]
  },
  {
   "cell_type": "code",
   "execution_count": 12,
   "id": "17f1997d",
   "metadata": {},
   "outputs": [
    {
     "name": "stdout",
     "output_type": "stream",
     "text": [
      "Third most popular Sci-Fi movie based on number of user ratings: Jurassic Park (1993)\n"
     ]
    }
   ],
   "source": [
    "ratings_file_path = \"ratings.csv\"\n",
    "movies_file_path = \"movies.csv\"\n",
    "\n",
    "df_ratings = pd.read_csv(ratings_file_path)\n",
    "df_movies = pd.read_csv(movies_file_path)\n",
    "\n",
    "merged_df = pd.merge(df_ratings, df_movies, on='movieId')\n",
    "\n",
    "sci_fi_movies = merged_df[merged_df['genres'].str.contains('Sci-Fi')]\n",
    "\n",
    "ratings_count_sci_fi = sci_fi_movies['title'].value_counts()\n",
    "\n",
    "third_most_popular_sci_fi = ratings_count_sci_fi.index[2]\n",
    "\n",
    "print(\"Third most popular Sci-Fi movie based on number of user ratings:\", third_most_popular_sci_fi)"
   ]
  },
  {
   "cell_type": "markdown",
   "id": "ef6638ab",
   "metadata": {},
   "source": [
    "### 11) Mention the movieId of the movie which has the highest IMDB rating."
   ]
  },
  {
   "cell_type": "code",
   "execution_count": 13,
   "id": "59aa578a",
   "metadata": {},
   "outputs": [
    {
     "name": "stdout",
     "output_type": "stream",
     "text": [
      "MovieId of the movie with the highest average user rating: 53\n"
     ]
    }
   ],
   "source": [
    "ratings_file_path = 'ratings.csv'\n",
    "\n",
    "ratings_df = pd.read_csv(ratings_file_path)\n",
    "\n",
    "average_ratings = ratings_df.groupby('movieId')['rating'].mean().reset_index()\n",
    "\n",
    "highest_rated_movie_id = average_ratings.loc[average_ratings['rating'].idxmax(), 'movieId']\n",
    "\n",
    "print(\"MovieId of the movie with the highest average user rating:\", highest_rated_movie_id)"
   ]
  },
  {
   "cell_type": "markdown",
   "id": "035938ad",
   "metadata": {},
   "source": [
    "### 12) Mention the movieId of the \"Sci-Fi\" movie which has the highest IMDB rating."
   ]
  },
  {
   "cell_type": "code",
   "execution_count": 14,
   "id": "f0ef2665",
   "metadata": {},
   "outputs": [
    {
     "name": "stdout",
     "output_type": "stream",
     "text": [
      "MovieId of the Sci-Fi movie with the highest average user rating : 3687\n"
     ]
    }
   ],
   "source": [
    "movies_file_path = 'movies.csv'\n",
    "ratings_file_path = 'ratings.csv'\n",
    "\n",
    "movies_df = pd.read_csv(movies_file_path)\n",
    "ratings_df = pd.read_csv(ratings_file_path)\n",
    "\n",
    "grouped_ratings = ratings_df.groupby('movieId')['rating'].agg(['count', 'mean']).reset_index()\n",
    "\n",
    "merged_df = pd.merge(movies_df, grouped_ratings, on='movieId', how='inner')\n",
    "\n",
    "sci_fi_movies = merged_df[merged_df['genres'].str.contains('Sci-Fi')]\n",
    "\n",
    "highest_rated_sci_fi_movie = sci_fi_movies.loc[sci_fi_movies['mean'].idxmax(), 'movieId']\n",
    "\n",
    "print(\"MovieId of the Sci-Fi movie with the highest average user rating :\", highest_rated_sci_fi_movie)"
   ]
  },
  {
   "cell_type": "code",
   "execution_count": null,
   "id": "bc34cd39",
   "metadata": {},
   "outputs": [],
   "source": []
  }
 ],
 "metadata": {
  "kernelspec": {
   "display_name": "Python 3 (ipykernel)",
   "language": "python",
   "name": "python3"
  },
  "language_info": {
   "codemirror_mode": {
    "name": "ipython",
    "version": 3
   },
   "file_extension": ".py",
   "mimetype": "text/x-python",
   "name": "python",
   "nbconvert_exporter": "python",
   "pygments_lexer": "ipython3",
   "version": "3.11.4"
  }
 },
 "nbformat": 4,
 "nbformat_minor": 5
}
